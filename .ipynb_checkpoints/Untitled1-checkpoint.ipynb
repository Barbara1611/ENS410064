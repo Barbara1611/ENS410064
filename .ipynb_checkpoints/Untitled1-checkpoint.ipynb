{
 "cells": [
  {
   "cell_type": "markdown",
   "id": "8b7620a2-474c-4308-923c-9fc22cf655b9",
   "metadata": {},
   "source": [
    "## AULA 03 - PYTHON"
   ]
  },
  {
   "cell_type": "markdown",
   "id": "f76ade7a-e831-4333-9868-fb5b86b45b69",
   "metadata": {},
   "source": [
    "Nesta aula veremos:\n",
    "1. Numpy arrays e pandas Dataframes\n",
    "2. Open and export file\n",
    "3. Conditional Statements\n",
    "4. Loops em Python\n",
    "5. Functions - def"
   ]
  },
  {
   "cell_type": "markdown",
   "id": "a34eed47-c01c-446f-bcd6-9b68479c579d",
   "metadata": {},
   "source": [
    "## 1.1 Numpy arrays"
   ]
  },
  {
   "cell_type": "code",
   "execution_count": 3,
   "id": "57424874-c120-4f4d-94dc-209ef36b4195",
   "metadata": {},
   "outputs": [
    {
     "name": "stdout",
     "output_type": "stream",
     "text": [
      "(1000, 2)\n",
      "2000\n",
      "[[0.49010205 0.11353049]\n",
      " [0.78547586 0.46615273]\n",
      " [0.05841589 0.89780983]\n",
      " [0.50604347 0.71796898]\n",
      " [0.95797262 0.249908  ]\n",
      " [0.71387798 0.64957513]\n",
      " [0.63086528 0.19911825]\n",
      " [0.38514364 0.94906151]\n",
      " [0.89920119 0.35062457]\n",
      " [0.0264781  0.90972317]]\n",
      "(10, 2)\n"
     ]
    }
   ],
   "source": [
    "import numpy as np\n",
    "\n",
    "# Criando um vetor de dados aleatórios\n",
    "data = np.random.rand(1000,2)\n",
    "\n",
    "# Verificando o tamanho do vetor\n",
    "print(data.shape)\n",
    "print(np.size(data))\n",
    "\n",
    "# Print de uma amostra dos dados\n",
    "print(data[0:10])\n",
    "print(data[0:10].shape)"
   ]
  },
  {
   "cell_type": "code",
   "execution_count": null,
   "id": "d39e1994-8eb7-46f9-b69d-5009b643ddbf",
   "metadata": {},
   "outputs": [],
   "source": []
  }
 ],
 "metadata": {
  "kernelspec": {
   "display_name": "Python 3 (ipykernel)",
   "language": "python",
   "name": "python3"
  },
  "language_info": {
   "codemirror_mode": {
    "name": "ipython",
    "version": 3
   },
   "file_extension": ".py",
   "mimetype": "text/x-python",
   "name": "python",
   "nbconvert_exporter": "python",
   "pygments_lexer": "ipython3",
   "version": "3.11.5"
  }
 },
 "nbformat": 4,
 "nbformat_minor": 5
}
